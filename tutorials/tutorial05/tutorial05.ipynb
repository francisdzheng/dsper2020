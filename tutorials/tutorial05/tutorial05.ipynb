{
 "cells": [
  {
   "cell_type": "markdown",
   "metadata": {},
   "source": [
    "# [Tutorial 05: Ridge and Lasso Regression](https://franciszheng.com/dsper2020/tutorials/tutorial05/)"
   ]
  },
  {
   "cell_type": "markdown",
   "metadata": {},
   "source": [
    "## [[1] Getting Started](http://franciszheng.com/dsper2020/tutorials/tutorial05/#getting-started)"
   ]
  },
  {
   "cell_type": "code",
   "execution_count": 1,
   "metadata": {},
   "outputs": [],
   "source": [
    "import itertools\n",
    "import pandas as pd\n",
    "import numpy as np\n",
    "import copy\n",
    "\n",
    "import statsmodels.api as sm\n",
    "from sklearn.linear_model import LinearRegression, Ridge, Lasso\n",
    "from sklearn.decomposition import PCA\n",
    "from sklearn.cross_decomposition import PLSRegression\n",
    "from sklearn.model_selection import train_test_split, GridSearchCV, KFold\n",
    "from sklearn.pipeline import Pipeline\n",
    "from sklearn.compose import ColumnTransformer\n",
    "from sklearn.impute import SimpleImputer\n",
    "from sklearn.preprocessing import StandardScaler\n",
    "from sklearn.metrics import mean_squared_error\n",
    "\n",
    "import matplotlib.pyplot as plt\n",
    "import seaborn as sns\n",
    "from IPython.display import Markdown, display\n",
    "\n",
    "# Reset all styles to the default:\n",
    "plt.rcParams.update(plt.rcParamsDefault)\n",
    "# Then make graphs inline:\n",
    "%matplotlib inline\n",
    "\n",
    "# Useful function for Jupyter to display text in bold:\n",
    "def displaybd(text):\n",
    "    display(Markdown(\"**\" + text + \"**\"))\n",
    "\n",
    "# If you'd like your plots to be a bit bigger, please also uncomment and run the following code: \n",
    "# plt.rcParams['figure.figsize'] = (7, 6)\n",
    "# plt.rcParams['font.size'] = 24\n",
    "# plt.rcParams['legend.fontsize'] = 'large'\n",
    "# plt.rcParams['figure.titlesize'] = 'large'\n",
    "# plt.rcParams['lines.markersize'] = 10"
   ]
  },
  {
   "cell_type": "markdown",
   "metadata": {},
   "source": [
    "## Loading Data"
   ]
  },
  {
   "cell_type": "code",
   "execution_count": 2,
   "metadata": {},
   "outputs": [],
   "source": [
    "# LOAD DATA:\n",
    "hittersDF = pd.read_csv('Hitters.csv', na_values=[\"\"])\n",
    "# The first column has no name in the csv file:\n",
    "hittersDF.rename(columns={hittersDF.columns[0] : \"Name\"}, inplace=True, copy=False)\n",
    "hittersDF.set_index('Name', inplace=True)\n",
    "hittersDF.dropna(inplace=True)\n",
    "\n",
    "# CREATE X and y:\n",
    "\n",
    "# Convert categorical variables into dummies:\n",
    "dummies = pd.get_dummies(hittersDF[['League', 'Division', 'NewLeague']])\n",
    "X = hittersDF.drop(['Salary', 'League', 'Division', 'NewLeague'], axis=1)\n",
    "cat_features = ['League_N', 'Division_W', 'NewLeague_N']\n",
    "num_features = list(X.columns)\n",
    "\n",
    "X = pd.concat([X, dummies[cat_features]], axis=1).astype('float64')\n",
    "y = hittersDF.Salary"
   ]
  },
  {
   "cell_type": "markdown",
   "metadata": {},
   "source": [
    "## [[2] Creating Data Pipelines](https://franciszheng.com/dsper2020/tutorials/tutorial05/#creating-data-pipelines)"
   ]
  },
  {
   "cell_type": "code",
   "execution_count": 3,
   "metadata": {},
   "outputs": [
    {
     "name": "stdout",
     "output_type": "stream",
     "text": [
      "[[-1.22544785 -0.95709474 -0.92570099 -1.4022036  -1.13030146 -1.58538045\n",
      "   2.01095013  0.62071676  0.65160576  0.12446442  0.41391291  0.42474454\n",
      "  -0.01814744 -0.36319346 -0.42345049 -0.59896236  0.          1.\n",
      "   0.        ]\n",
      " [ 0.8036835   0.44319078 -1.17625229 -0.44088545 -0.28021565 -0.19298262\n",
      "   0.75450593  1.26958867  1.31158886 -0.31559698  1.07321939  0.50410693\n",
      "   0.03020472 -0.26634017  1.78498762  1.91691963  1.          1.\n",
      "   1.        ]\n",
      " [ 1.70551966  2.27433337  0.32705552  2.05854173  0.2993883   0.54672873\n",
      "  -0.50193827 -0.11288459  0.08002686 -0.50741861 -0.00313677 -0.31502626\n",
      "  -0.22364413  0.16782974 -0.60689902 -0.59896236  1.          1.\n",
      "   1.        ]\n",
      " [-0.56956701 -0.72012334 -1.4268036  -0.78695998 -0.78253908 -0.58459451\n",
      "  -0.50193827 -0.98179368 -0.96862989 -0.81207651 -0.95683125 -0.8762317\n",
      "  -0.89654505 -0.56691934  1.15702918  0.65897863  1.          0.\n",
      "   1.        ]]\n"
     ]
    }
   ],
   "source": [
    "# From here: https://kiwidamien.github.io/introducing-the-column-transformer.html\n",
    "# and from \"Hands-On Machine Learning with Scikit-Learn & TensorFlow\" by Aurélien Géron.\n",
    "\n",
    "# Feature scaling is super important for Ridge and Lasso.\n",
    "\n",
    "# Pipeline for numerical columns:\n",
    "num_pipeline = Pipeline([\n",
    "    # Replace missing numerical values with their median values.\n",
    "    # Actually, our dataset does not have missing values (we dropped them all),\n",
    "    # but in case we decide not to drop the missing values, we can do the imputation.\n",
    "    ('impute', SimpleImputer(strategy='median')),\n",
    "    ('std_scaler', StandardScaler()),\n",
    "])\n",
    "\n",
    "# Pipeline for categorical columns:\n",
    "cat_pipeline = Pipeline([\n",
    "    # Do not scale data. Replace missing values with the most frequent values:\n",
    "    ('impute', SimpleImputer(strategy='most_frequent'))\n",
    "])\n",
    "\n",
    "full_preprocess_pipeline = ColumnTransformer([\n",
    "    ('numerical', num_pipeline, num_features),\n",
    "    ('categorical', cat_pipeline, cat_features)\n",
    "])\n",
    "\n",
    "train_preprocess_pipeline = copy.copy(full_preprocess_pipeline)\n",
    "\n",
    "X_processed = full_preprocess_pipeline.fit_transform(X)\n",
    "\n",
    "#-- SPLIT INTO TWO TRAIN AND TEST DATASETS:\n",
    "\n",
    "X_train, X_test, y_train, y_test = train_test_split(X, y, test_size=0.5, random_state=1)\n",
    "X_train_processed = train_preprocess_pipeline.fit_transform(X_train)\n",
    "# Note that we scale test data using the train data's mean and variance. This is important.\n",
    "X_test_processed = train_preprocess_pipeline.transform(X_test)\n",
    "print(X_train_processed[:4])"
   ]
  },
  {
   "cell_type": "markdown",
   "metadata": {},
   "source": [
    "## [[3] Print Function](http://franciszheng.com/dsper2020/tutorials/tutorial05/#print-function)"
   ]
  },
  {
   "cell_type": "code",
   "execution_count": 4,
   "metadata": {},
   "outputs": [],
   "source": [
    "# This function prints results from ridge or lasso regression.\n",
    "# It prints coefficients for scaled and unscaled data:\n",
    "def printCoefs(regr_res, coef_names, num_features_idx, mean, var):\n",
    "    scaled_coefs = np.hstack((regr_res.intercept_, regr_res.coef_))\n",
    "    \n",
    "    # Only numerical features are scaled. So, we need to extract them, unscale\n",
    "    # the coefficients, then merge coefficients for numerical and categorical\n",
    "    # features.\n",
    "\n",
    "    cat_features_idx = [x for x in range(len(regr_res.coef_))\\\n",
    "                        if x not in num_features_idx]\n",
    "\n",
    "    unscaled_num_coefs = regr_res.coef_[num_features_idx] / np.sqrt(var)\n",
    "    unscaled_intercept = regr_res.intercept_ - np.sum(unscaled_num_coefs * mean)\n",
    "\n",
    "    unscaled_coefs = np.array([None] * (len(regr_res.coef_) + 1))\n",
    "    # Intercept goes first, then the rest of coefficients:\n",
    "    unscaled_coefs[0] = unscaled_intercept\n",
    "    unscaled_coefs[[i+1 for i in num_features_idx]] = unscaled_num_coefs\n",
    "    unscaled_coefs[[i+1 for i in cat_features_idx]] = ridge.coef_[cat_features_idx]\n",
    "\n",
    "    results = pd.DataFrame(data={'Scaled' : scaled_coefs,\n",
    "                                  'Unscaled' : unscaled_coefs},\n",
    "                            index=['Intercept']+coef_names)\n",
    "    print(results)"
   ]
  },
  {
   "cell_type": "markdown",
   "metadata": {},
   "source": [
    "## [[4] Ridge Regression](http://franciszheng.com/dsper2020/tutorials/tutorial05/#ridge-regression)"
   ]
  },
  {
   "cell_type": "markdown",
   "metadata": {},
   "source": [
    "### [[4a] Modeling](http://franciszheng.com/dsper2020/tutorials/tutorial05/#modeling)"
   ]
  },
  {
   "cell_type": "code",
   "execution_count": 5,
   "metadata": {},
   "outputs": [
    {
     "data": {
      "image/png": "[encoded data removed]",
      "text/plain": [
       "<Figure size 432x288 with 1 Axes>"
      ]
     },
     "metadata": {
      "needs_background": "light"
     },
     "output_type": "display_data"
    }
   ],
   "source": [
    "# NB: glmnet uses (1/N)*||y - Xw||^2_2 + lambda/2 * ||w||^2_2, while\n",
    "# Ridge uses ||y - Xw||^2_2 + alpha * ||w||^2_2. So, there is a difference.\n",
    "alphas = 10**np.linspace(5, -2, 300)\n",
    "\n",
    "# NB: Do not use the normalize option of Ridge, use scale or StandardScaler from sklearn.preprocessing\n",
    "# See here: https://stackoverflow.com/questions/24098212/what-does-the-option-normalize-true-in-lasso-sklearn-do\n",
    "ridge = Ridge(fit_intercept=True, normalize=False, tol=1e-12)\n",
    "\n",
    "coefs = []\n",
    "for a in alphas:\n",
    "    ridge.set_params(alpha=a)\n",
    "    ridge.fit(X_processed, y)\n",
    "    coefs.append(ridge.coef_)\n",
    "\n",
    "ax = plt.gca()\n",
    "ax.plot(alphas, coefs)\n",
    "ax.set_xscale('log')\n",
    "ax.set_xlim(ax.get_xlim()[::-1])  # reverse axis\n",
    "plt.axis('tight')\n",
    "plt.xlabel('alpha')\n",
    "plt.ylabel('weights')\n",
    "plt.title('Ridge coefficients as a function of the regularization');\n",
    "plt.savefig('ridge.svg', format='svg', dpi=1200, bbox_inches=\"tight\")"
   ]
  },
  {
   "cell_type": "code",
   "execution_count": 6,
   "metadata": {},
   "outputs": [
    {
     "name": "stdout",
     "output_type": "stream",
     "text": [
      "Ridge regression with alpha = 4\n",
      "MSE: 102084.02878693413\n"
     ]
    }
   ],
   "source": [
    "# Perform ridge on train data for alpha = 4 and show prediction error on test data:\n",
    "ridge2 = Ridge(alpha=4, normalize=False, tol=1e-12)\n",
    "ridge2.fit(X_train_processed, y_train)\n",
    "yhat = ridge2.predict(X_test_processed)\n",
    "print(\"Ridge regression with alpha =\", 4)\n",
    "print(\"MSE:\", mean_squared_error(y_test, yhat))"
   ]
  },
  {
   "cell_type": "markdown",
   "metadata": {},
   "source": [
    "### [[4b] Choosing an Optimal α](http://franciszheng.com/dsper2020/tutorials/tutorial05/#choosing-an-optimal-alpha)"
   ]
  },
  {
   "cell_type": "code",
   "execution_count": 7,
   "metadata": {
    "scrolled": true
   },
   "outputs": [
    {
     "name": "stdout",
     "output_type": "stream",
     "text": [
      "Fitting 10 folds for each of 300 candidates, totalling 3000 fits\n"
     ]
    },
    {
     "name": "stderr",
     "output_type": "stream",
     "text": [
      "[Parallel(n_jobs=6)]: Using backend LokyBackend with 6 concurrent workers.\n",
      "[Parallel(n_jobs=6)]: Done  40 tasks      | elapsed:    1.4s\n",
      "[Parallel(n_jobs=6)]: Done 2060 tasks      | elapsed:    9.2s\n"
     ]
    },
    {
     "name": "stdout",
     "output_type": "stream",
     "text": [
      "Best alpha: 69.09790545715646\n",
      "MSE on the test dataset is:  101735.58726985169\n"
     ]
    },
    {
     "name": "stderr",
     "output_type": "stream",
     "text": [
      "[Parallel(n_jobs=6)]: Done 3000 out of 3000 | elapsed:   12.1s finished\n",
      "/Users/daehyung/opt/anaconda3/lib/python3.7/site-packages/sklearn/model_selection/_search.py:823: FutureWarning: The parameter 'iid' is deprecated in 0.22 and will be removed in 0.24.\n",
      "  \"removed in 0.24.\", FutureWarning\n"
     ]
    }
   ],
   "source": [
    "# NB: Don't use 'RidgeCV'!\n",
    "# See here: https://stackoverflow.com/questions/39466671/use-of-scaler-with-lassocv-ridgecv\n",
    "\n",
    "ridge_pipeline = Pipeline([\n",
    "    ('scaler', train_preprocess_pipeline),\n",
    "    ('regressor', Ridge(fit_intercept=True, normalize=False, tol=1e-12))\n",
    "])\n",
    "\n",
    "# We need to supply parameter alpha to Ridge. Note the convention adopted to\n",
    "# name the parameters: name of the pipeline step, followed by a double underscore (__),\n",
    "# then finally the name of the parameter within the step\n",
    "pipeline_params = {'regressor__alpha': alphas}\n",
    "\n",
    "# Using our pipline with GridSearchCV allows us to scale the train part of X_train in each fold\n",
    "# and then apply that scaling to the test part of X_train in each fold. This is the correct way to\n",
    "# K-fold cross-validation. This way there is no information leakage from the train part of a fold to\n",
    "# the test part of a fold.\n",
    "kf = KFold(n_splits=10, shuffle=True, random_state=1)\n",
    "gridsearch = GridSearchCV(ridge_pipeline, param_grid=pipeline_params, cv=kf,\n",
    "                          scoring='neg_mean_squared_error',\n",
    "                          return_train_score=False, # We don't need them\n",
    "                          n_jobs=6, # Use 6 CPU cores\n",
    "                          verbose=1, iid=False).fit(X_train, y_train)\n",
    "\n",
    "best_ridge_alpha = gridsearch.best_params_['regressor__alpha']\n",
    "print(\"Best alpha:\", best_ridge_alpha)\n",
    "print('MSE on the test dataset is: ', -gridsearch.score(X_test, y_test))"
   ]
  },
  {
   "cell_type": "markdown",
   "metadata": {},
   "source": [
    "### [[4c] Printing Results](http://franciszheng.com/dsper2020/tutorials/tutorial05/#printing-results)"
   ]
  },
  {
   "cell_type": "code",
   "execution_count": 8,
   "metadata": {
    "scrolled": true
   },
   "outputs": [
    {
     "data": {
      "text/markdown": [
       "**Regression coefficients of the optimal ridge regression on the full dataset:**"
      ],
      "text/plain": [
       "<IPython.core.display.Markdown object>"
      ]
     },
     "metadata": {},
     "output_type": "display_data"
    },
    {
     "name": "stdout",
     "output_type": "stream",
     "text": [
      "                 Scaled  Unscaled\n",
      "Intercept    577.485786    163.13\n",
      "AtBat       -290.926712  -1.97873\n",
      "Hits         337.235023   7.48755\n",
      "HmRun         37.494045   4.28972\n",
      "Runs         -60.017331  -2.35443\n",
      "RBI          -26.662596   -1.0321\n",
      "Walks        134.927434   6.22453\n",
      "Years        -17.051308  -3.56387\n",
      "CAtBat      -388.771534 -0.170347\n",
      "CHits         88.555476  0.136878\n",
      "CHmRun       -12.903281 -0.157278\n",
      "CRuns        477.616374   1.44483\n",
      "CRBI         258.394540  0.800597\n",
      "CWalks      -213.378882 -0.809623\n",
      "PutOuts       78.761990  0.281895\n",
      "Assists       53.657052  0.370548\n",
      "Errors       -22.191244  -3.36537\n",
      "League_N      62.571806   62.5718\n",
      "Division_W  -116.894468  -116.894\n",
      "NewLeague_N  -24.797541  -24.7975\n"
     ]
    }
   ],
   "source": [
    "#COEFFICIENTS ON THE FULL DATA SET:\n",
    "ridge.set_params(alpha=best_ridge_alpha)\n",
    "fitted_scaler = full_preprocess_pipeline.transformers_[0][1].steps[1][1]\n",
    "displaybd(\"Regression coefficients of the optimal ridge regression on the full dataset:\")\n",
    "printCoefs(ridge, num_features + cat_features,\n",
    "                list(range(len(num_features))),\n",
    "                fitted_scaler.mean_, fitted_scaler.var_)"
   ]
  },
  {
   "cell_type": "markdown",
   "metadata": {},
   "source": [
    "## [[5] Lasso Regression](http://franciszheng.com/dsper2020/tutorials/tutorial05/#lasso-regression)"
   ]
  },
  {
   "cell_type": "markdown",
   "metadata": {},
   "source": [
    "### [[5a] Modeling](http://franciszheng.com/dsper2020/tutorials/tutorial05/#modeling-1)"
   ]
  },
  {
   "cell_type": "code",
   "execution_count": 9,
   "metadata": {},
   "outputs": [
    {
     "data": {
      "image/png": "[encoded data removed]",
      "text/plain": [
       "<Figure size 432x288 with 1 Axes>"
      ]
     },
     "metadata": {
      "needs_background": "light"
     },
     "output_type": "display_data"
    }
   ],
   "source": [
    "lasso = Lasso(fit_intercept=True, normalize=False, tol=1e-12, max_iter=100000)\n",
    "\n",
    "coefs = []\n",
    "for a in alphas:\n",
    "    lasso.set_params(alpha=a)\n",
    "    lasso.fit(X_processed, y)\n",
    "    coefs.append(lasso.coef_)\n",
    "\n",
    "ax = plt.gca()\n",
    "ax.plot(alphas, coefs)\n",
    "ax.set_xscale('log')\n",
    "ax.set_xlim(ax.get_xlim()[::-1])  # reverse axis\n",
    "plt.axis('tight')\n",
    "plt.xlabel('alpha')\n",
    "plt.ylabel('weights')\n",
    "plt.title('Lasso coefficients as a function of the regularization');\n",
    "plt.savefig('lasso.svg', format='svg', dpi=1200, bbox_inches=\"tight\")"
   ]
  },
  {
   "cell_type": "markdown",
   "metadata": {},
   "source": [
    "### [[5b] Choosing an Optimal α](http://franciszheng.com/dsper2020/tutorials/tutorial05/#choosing-an-optimal-alpha-1)"
   ]
  },
  {
   "cell_type": "code",
   "execution_count": 10,
   "metadata": {},
   "outputs": [
    {
     "name": "stdout",
     "output_type": "stream",
     "text": [
      "Fitting 10 folds for each of 300 candidates, totalling 3000 fits\n"
     ]
    },
    {
     "name": "stderr",
     "output_type": "stream",
     "text": [
      "[Parallel(n_jobs=6)]: Using backend LokyBackend with 6 concurrent workers.\n",
      "[Parallel(n_jobs=6)]: Done 100 tasks      | elapsed:    0.7s\n",
      "[Parallel(n_jobs=6)]: Done 2364 tasks      | elapsed:   15.7s\n",
      "[Parallel(n_jobs=6)]: Done 2892 tasks      | elapsed:   21.8s\n"
     ]
    },
    {
     "name": "stdout",
     "output_type": "stream",
     "text": [
      "Best alpha: 0.7181039092537357\n",
      "MSE on the test dataset is:  107596.2015393248\n"
     ]
    },
    {
     "name": "stderr",
     "output_type": "stream",
     "text": [
      "[Parallel(n_jobs=6)]: Done 3000 out of 3000 | elapsed:   22.9s finished\n",
      "/Users/daehyung/opt/anaconda3/lib/python3.7/site-packages/sklearn/model_selection/_search.py:823: FutureWarning: The parameter 'iid' is deprecated in 0.22 and will be removed in 0.24.\n",
      "  \"removed in 0.24.\", FutureWarning\n"
     ]
    }
   ],
   "source": [
    "# NB: Again, don't use 'LassoCV'!\n",
    "# See here: https://stackoverflow.com/questions/39466671/use-of-scaler-with-lassocv-ridgecv\n",
    "\n",
    "lasso_pipeline = Pipeline([\n",
    "    ('scaler', train_preprocess_pipeline),\n",
    "    ('regressor', Lasso(fit_intercept=True, normalize=False, tol=1e-12, max_iter=10000))\n",
    "])\n",
    "\n",
    "# We need a much lower alpha for Lasso (it means a different thing in Lasso versus Ridge).\n",
    "# I just divide it by 10:\n",
    "pipeline_params = {'regressor__alpha': alphas / 10}\n",
    "\n",
    "# Using our pipline with GridSearchCV allows us to scale the train part of X_train in each fold\n",
    "# and then apply that scaling to the test part of X_train in each fold. This is the correct way to\n",
    "# K-fold cross-validation. This way there is no information leakage from the train part of a fold to\n",
    "# the test part of a fold.\n",
    "kf = KFold(n_splits=10, shuffle=True, random_state=1)\n",
    "gridsearch = GridSearchCV(lasso_pipeline, param_grid=pipeline_params, cv=kf,\n",
    "                          scoring='neg_mean_squared_error',\n",
    "                          return_train_score=False, # We don't need them\n",
    "                          n_jobs=6, # Use 6 CPU cores\n",
    "                          verbose=1, iid=False).fit(X_train, y_train)\n",
    "\n",
    "best_lasso_alpha = gridsearch.best_params_['regressor__alpha']\n",
    "print(\"Best alpha:\", best_lasso_alpha)\n",
    "print('MSE on the test dataset is: ', -gridsearch.score(X_test, y_test))"
   ]
  },
  {
   "cell_type": "markdown",
   "metadata": {},
   "source": [
    "### [[5c] Printing Results](http://franciszheng.com/dsper2020/tutorials/tutorial05/#printing-results-1)"
   ]
  },
  {
   "cell_type": "code",
   "execution_count": 11,
   "metadata": {},
   "outputs": [
    {
     "data": {
      "text/markdown": [
       "**Regression coefficients of the optimal lasso regression on the full dataset:**"
      ],
      "text/plain": [
       "<IPython.core.display.Markdown object>"
      ]
     },
     "metadata": {},
     "output_type": "display_data"
    },
    {
     "name": "stdout",
     "output_type": "stream",
     "text": [
      "                 Scaled  Unscaled\n",
      "Intercept    577.417128   162.994\n",
      "AtBat       -291.156068  -1.98029\n",
      "Hits         337.534768    7.4942\n",
      "HmRun         37.410636   4.28018\n",
      "Runs         -60.160402  -2.36004\n",
      "RBI          -26.527714  -1.02687\n",
      "Walks        134.920241    6.2242\n",
      "Years        -16.900832  -3.53242\n",
      "CAtBat      -388.183560 -0.170089\n",
      "CHits         86.005263  0.132936\n",
      "CHmRun       -13.326362 -0.162435\n",
      "CRuns        479.406526   1.45025\n",
      "CRBI         259.079389  0.802719\n",
      "CWalks      -213.675997  -0.81075\n",
      "PutOuts       78.775224  0.281942\n",
      "Assists       53.613395  0.370247\n",
      "Errors       -22.122089  -3.35488\n",
      "League_N      62.292836   62.5718\n",
      "Division_W  -116.810487  -116.894\n",
      "NewLeague_N  -24.458230  -24.7975\n"
     ]
    }
   ],
   "source": [
    "lasso.set_params(alpha=best_lasso_alpha)\n",
    "fitted_scaler = full_preprocess_pipeline.transformers_[0][1].steps[1][1]\n",
    "displaybd(\"Regression coefficients of the optimal lasso regression on the full dataset:\")\n",
    "printCoefs(lasso, num_features + cat_features,\n",
    "                list(range(len(num_features))),\n",
    "                fitted_scaler.mean_, fitted_scaler.var_)"
   ]
  },
  {
   "cell_type": "markdown",
   "metadata": {},
   "source": [
    "## Principal Component Analysis (PCA) Regression"
   ]
  },
  {
   "cell_type": "code",
   "execution_count": 12,
   "metadata": {},
   "outputs": [
    {
     "data": {
      "image/png": "[encoded data removed]",
      "text/plain": [
       "<Figure size 432x288 with 1 Axes>"
      ]
     },
     "metadata": {
      "needs_background": "light"
     },
     "output_type": "display_data"
    }
   ],
   "source": [
    "pca_nonscaled = PCA()\n",
    "pca_scaled = PCA()\n",
    "\n",
    "# In ridge and lasso we were not scaling categorical variables.\n",
    "# Similarly, we can do PCA without scaling categorical variables.\n",
    "# Moreover, it is debatable, whether it is appropriate at all to\n",
    "# include binary variables into PCA. Probably, it is OK.\n",
    "# See here: https://stats.stackexchange.com/questions/16331/doing-principal-component-analysis-or-factor-analysis-on-binary-data\n",
    "X_reduced_nonscaled = pca_nonscaled.fit_transform(X_processed)\n",
    "\n",
    "scaler = StandardScaler()\n",
    "X_reduced_scaled = pca_scaled.fit_transform(scaler.fit_transform(X))\n",
    "\n",
    "#-- PLOT THE SHARE OF EXPLAINED VARIANCE:\n",
    "\n",
    "ax = plt.gca()\n",
    "nonscaled_cat_line, = \\\n",
    "    ax.plot(range(1, X_reduced_nonscaled.shape[1] + 1),\n",
    "            np.cumsum(pca_nonscaled.explained_variance_ratio_), \n",
    "            '-o', markersize=4, color='blue')\n",
    "scaled_cat_line,  = \\\n",
    "    ax.plot(range(1, X_reduced_scaled.shape[1] + 1),\n",
    "            np.cumsum(pca_scaled.explained_variance_ratio_),\n",
    "            '-o', markersize=4, color='red')\n",
    "ax.set_xticks(range(1, X_reduced_scaled.shape[1] + 1, 2));\n",
    "plt.xlabel('Number of components');\n",
    "plt.ylabel('Share of explained variance');\n",
    "plt.legend([nonscaled_cat_line, scaled_cat_line],\n",
    "           ['Categorical scaled', 'Categorical unscaled']);\n",
    "plt.savefig('pca.svg', format='svg', dpi=1200, bbox_inches=\"tight\")"
   ]
  },
  {
   "cell_type": "markdown",
   "metadata": {},
   "source": [
    "### Cross-Validated Test Score on the Full Dataset\n"
   ]
  },
  {
   "cell_type": "code",
   "execution_count": 13,
   "metadata": {},
   "outputs": [
    {
     "name": "stdout",
     "output_type": "stream",
     "text": [
      "Fitting 10 folds for each of 19 candidates, totalling 190 fits\n"
     ]
    },
    {
     "name": "stderr",
     "output_type": "stream",
     "text": [
      "[Parallel(n_jobs=6)]: Using backend LokyBackend with 6 concurrent workers.\n",
      "[Parallel(n_jobs=6)]: Done 100 tasks      | elapsed:    0.7s\n",
      "[Parallel(n_jobs=6)]: Done 179 out of 190 | elapsed:    0.9s remaining:    0.1s\n",
      "[Parallel(n_jobs=6)]: Done 190 out of 190 | elapsed:    0.9s finished\n",
      "/Users/daehyung/opt/anaconda3/lib/python3.7/site-packages/sklearn/model_selection/_search.py:823: FutureWarning: The parameter 'iid' is deprecated in 0.22 and will be removed in 0.24.\n",
      "  \"removed in 0.24.\", FutureWarning\n",
      "[Parallel(n_jobs=6)]: Using backend LokyBackend with 6 concurrent workers.\n"
     ]
    },
    {
     "name": "stdout",
     "output_type": "stream",
     "text": [
      "Fitting 10 folds for each of 19 candidates, totalling 190 fits\n"
     ]
    },
    {
     "name": "stderr",
     "output_type": "stream",
     "text": [
      "[Parallel(n_jobs=6)]: Done 100 tasks      | elapsed:    0.3s\n",
      "[Parallel(n_jobs=6)]: Done 179 out of 190 | elapsed:    0.4s remaining:    0.0s\n",
      "[Parallel(n_jobs=6)]: Done 190 out of 190 | elapsed:    0.4s finished\n",
      "/Users/daehyung/opt/anaconda3/lib/python3.7/site-packages/sklearn/model_selection/_search.py:823: FutureWarning: The parameter 'iid' is deprecated in 0.22 and will be removed in 0.24.\n",
      "  \"removed in 0.24.\", FutureWarning\n"
     ]
    }
   ],
   "source": [
    "n_features_to_test = np.arange(1, X.shape[1] + 1)\n",
    "pipeline_params = {'reduce_dim__n_components': n_features_to_test}\n",
    "kf = KFold(n_splits=10, shuffle=True, random_state=90)\n",
    "\n",
    "# Pipeline for unscaled categorical variables:\n",
    "pca_regr_pipe_unscaled = Pipeline([\n",
    "    ('scaler', full_preprocess_pipeline),\n",
    "    ('reduce_dim', PCA()),\n",
    "    ('regressor', LinearRegression())\n",
    "])\n",
    "\n",
    "# Pipeline for scaled categorical variables:\n",
    "pca_regr_pipe_scaled = Pipeline([\n",
    "    ('scaler', StandardScaler()),\n",
    "    ('reduce_dim', PCA()),\n",
    "    ('regressor', LinearRegression())\n",
    "])\n",
    "\n",
    "gridsearch_unscaled = GridSearchCV(pca_regr_pipe_unscaled,\n",
    "                                   param_grid=pipeline_params, cv=kf,\n",
    "                                   scoring='neg_mean_squared_error',\n",
    "                                   return_train_score=False,\n",
    "                                   n_jobs=6, # Use 6 CPU cores\n",
    "                                   verbose=1, iid=False).fit(X, y)\n",
    "\n",
    "gridsearch_scaled = GridSearchCV(pca_regr_pipe_scaled,\n",
    "                                 param_grid=pipeline_params, cv=kf,\n",
    "                                 scoring='neg_mean_squared_error',\n",
    "                                 return_train_score=False,\n",
    "                                 n_jobs=6, # Use 6 CPU cores\n",
    "                                 verbose=1, iid=False).fit(X, y)"
   ]
  },
  {
   "cell_type": "code",
   "execution_count": 14,
   "metadata": {},
   "outputs": [
    {
     "data": {
      "image/png": "[encoded data removed]",
      "text/plain": [
       "<Figure size 432x288 with 1 Axes>"
      ]
     },
     "metadata": {
      "needs_background": "light"
     },
     "output_type": "display_data"
    }
   ],
   "source": [
    "#-- PLOT CROSS-VALIDATED (ROOT OF) MEAN SQUARED ERROR:\n",
    "\n",
    "rmse_unscaled = np.sqrt(-gridsearch_unscaled.cv_results_[\"mean_test_score\"])\n",
    "rmse_scaled = np.sqrt(-gridsearch_scaled.cv_results_[\"mean_test_score\"])\n",
    "\n",
    "ax = plt.gca()\n",
    "nonscaled_cat_line, = \\\n",
    "    ax.plot(range(1, len(rmse_unscaled) + 1), rmse_unscaled, \n",
    "            '-o', markersize=4, color='blue')\n",
    "scaled_cat_line,  = \\\n",
    "    ax.plot(range(1, len(rmse_scaled) + 1), rmse_scaled, \n",
    "            '-o', markersize=4, color='red')\n",
    "ax.set_xticks(range(1, len(rmse_unscaled) + 1, 2));\n",
    "plt.xlabel('Number of components');\n",
    "plt.ylabel('Root of CV MSE');\n",
    "plt.legend([nonscaled_cat_line, scaled_cat_line],\n",
    "           ['Categorical scaled', 'Categorical unscaled']);"
   ]
  },
  {
   "cell_type": "markdown",
   "metadata": {},
   "source": [
    "### Cross-Validated Test Score on the Train Dataset"
   ]
  },
  {
   "cell_type": "code",
   "execution_count": 15,
   "metadata": {},
   "outputs": [
    {
     "name": "stdout",
     "output_type": "stream",
     "text": [
      "Fitting 10 folds for each of 19 candidates, totalling 190 fits\n"
     ]
    },
    {
     "name": "stderr",
     "output_type": "stream",
     "text": [
      "[Parallel(n_jobs=6)]: Using backend LokyBackend with 6 concurrent workers.\n",
      "[Parallel(n_jobs=6)]: Done 100 tasks      | elapsed:    0.3s\n",
      "[Parallel(n_jobs=6)]: Done 190 out of 190 | elapsed:    0.4s finished\n",
      "/Users/daehyung/opt/anaconda3/lib/python3.7/site-packages/sklearn/model_selection/_search.py:823: FutureWarning: The parameter 'iid' is deprecated in 0.22 and will be removed in 0.24.\n",
      "  \"removed in 0.24.\", FutureWarning\n"
     ]
    },
    {
     "data": {
      "image/png": "[encoded data removed]",
      "text/plain": [
       "<Figure size 432x288 with 1 Axes>"
      ]
     },
     "metadata": {
      "needs_background": "light"
     },
     "output_type": "display_data"
    }
   ],
   "source": [
    "gridsearch_scaled = GridSearchCV(pca_regr_pipe_scaled,\n",
    "                                 param_grid=pipeline_params, cv=kf,\n",
    "                                 scoring='neg_mean_squared_error',\n",
    "                                 return_train_score=False,\n",
    "                                 n_jobs=6, # Use 6 CPU cores\n",
    "                                 verbose=1, iid=False).fit(X_train, y_train)\n",
    "\n",
    "#-- PLOT CROSS-VALIDATED (ROOT OF) MEAN SQUARED ERROR:\n",
    "\n",
    "rmse_scaled = np.sqrt(-gridsearch_scaled.cv_results_[\"mean_test_score\"])\n",
    "\n",
    "ax = plt.gca()\n",
    "ax.plot(range(1, len(rmse_scaled) + 1), rmse_scaled, \n",
    "        '-o', markersize=4, color='red')\n",
    "ax.set_xticks(range(1, len(rmse_scaled) + 1, 2));\n",
    "plt.xlabel('Number of components');\n",
    "plt.ylabel('Root of CV MSE');\n",
    "plt.title('Scaled categorical variables')\n",
    "plt.savefig('cvmse_train.svg', format='svg', dpi=1200, bbox_inches=\"tight\")"
   ]
  },
  {
   "cell_type": "markdown",
   "metadata": {},
   "source": [
    "### Test MSE"
   ]
  },
  {
   "cell_type": "code",
   "execution_count": 16,
   "metadata": {},
   "outputs": [
    {
     "name": "stdout",
     "output_type": "stream",
     "text": [
      "PCA regression with 7 components\n",
      "Test MSE: 108266.95903472023\n"
     ]
    }
   ],
   "source": [
    "pca_regr_pipe_scaled.set_params(reduce_dim__n_components=7)\n",
    "pca_regr_pipe_scaled.fit(X_train, y_train)\n",
    "yhat = pca_regr_pipe_scaled.predict(X_test)\n",
    "print(\"PCA regression with 7 components\")\n",
    "print(\"Test MSE:\", mean_squared_error(y_test, yhat))"
   ]
  }
 ],
 "metadata": {
  "kernelspec": {
   "display_name": "Python 3",
   "language": "python",
   "name": "python3"
  },
  "language_info": {
   "codemirror_mode": {
    "name": "ipython",
    "version": 3
   },
   "file_extension": ".py",
   "mimetype": "text/x-python",
   "name": "python",
   "nbconvert_exporter": "python",
   "pygments_lexer": "ipython3",
   "version": "3.7.6"
  }
 },
 "nbformat": 4,
 "nbformat_minor": 4
}

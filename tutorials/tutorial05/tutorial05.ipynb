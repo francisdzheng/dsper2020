{
 "cells": [
  {
   "cell_type": "markdown",
   "metadata": {},
   "source": [
    "# [Tutorial 05: Ridge and Lasso Regression](https://franciszheng.com/dsper2020/tutorials/tutorial05/)"
   ]
  },
  {
   "cell_type": "code",
   "execution_count": 9,
   "metadata": {},
   "outputs": [],
   "source": [
    "import itertools\n",
    "import pandas as pd\n",
    "import numpy as np\n",
    "import copy\n",
    "\n",
    "import statsmodels.api as sm\n",
    "from sklearn.linear_model import LinearRegression, Ridge, Lasso\n",
    "from sklearn.decomposition import PCA\n",
    "from sklearn.cross_decomposition import PLSRegression\n",
    "from sklearn.model_selection import train_test_split, GridSearchCV, KFold\n",
    "from sklearn.pipeline import Pipeline\n",
    "from sklearn.compose import ColumnTransformer\n",
    "from sklearn.impute import SimpleImputer\n",
    "from sklearn.preprocessing import StandardScaler\n",
    "from sklearn.metrics import mean_squared_error\n",
    "\n",
    "import matplotlib.pyplot as plt\n",
    "import seaborn as sns\n",
    "from IPython.display import Markdown, display\n",
    "\n",
    "# Reset all styles to the default:\n",
    "plt.rcParams.update(plt.rcParamsDefault)\n",
    "# Then make graphs inline:\n",
    "%matplotlib inline\n",
    "\n",
    "# Set custom style settings:\n",
    "# NB: We need to separate \"matplotlib inline\" call and these settings into different\n",
    "# cells, otherwise the parameters are not set. This is a bug somewhere in Jupyter\n",
    "plt.rcParams['figure.figsize'] = (7, 6)\n",
    "plt.rcParams['font.size'] = 24\n",
    "plt.rcParams['legend.fontsize'] = 'large'\n",
    "plt.rcParams['figure.titlesize'] = 'large'\n",
    "plt.rcParams['lines.markersize'] = 10"
   ]
  },
  {
   "cell_type": "markdown",
   "metadata": {},
   "source": [
    "## Loading Data"
   ]
  },
  {
   "cell_type": "code",
   "execution_count": 10,
   "metadata": {},
   "outputs": [
    {
     "data": {
      "text/html": [
       "<div>\n",
       "<style scoped>\n",
       "    .dataframe tbody tr th:only-of-type {\n",
       "        vertical-align: middle;\n",
       "    }\n",
       "\n",
       "    .dataframe tbody tr th {\n",
       "        vertical-align: top;\n",
       "    }\n",
       "\n",
       "    .dataframe thead th {\n",
       "        text-align: right;\n",
       "    }\n",
       "</style>\n",
       "<table border=\"1\" class=\"dataframe\">\n",
       "  <thead>\n",
       "    <tr style=\"text-align: right;\">\n",
       "      <th></th>\n",
       "      <th>AtBat</th>\n",
       "      <th>Hits</th>\n",
       "      <th>HmRun</th>\n",
       "      <th>Runs</th>\n",
       "      <th>RBI</th>\n",
       "      <th>Walks</th>\n",
       "      <th>Years</th>\n",
       "      <th>CAtBat</th>\n",
       "      <th>CHits</th>\n",
       "      <th>CHmRun</th>\n",
       "      <th>CRuns</th>\n",
       "      <th>CRBI</th>\n",
       "      <th>CWalks</th>\n",
       "      <th>PutOuts</th>\n",
       "      <th>Assists</th>\n",
       "      <th>Errors</th>\n",
       "      <th>League_N</th>\n",
       "      <th>Division_W</th>\n",
       "      <th>NewLeague_N</th>\n",
       "    </tr>\n",
       "    <tr>\n",
       "      <th>Name</th>\n",
       "      <th></th>\n",
       "      <th></th>\n",
       "      <th></th>\n",
       "      <th></th>\n",
       "      <th></th>\n",
       "      <th></th>\n",
       "      <th></th>\n",
       "      <th></th>\n",
       "      <th></th>\n",
       "      <th></th>\n",
       "      <th></th>\n",
       "      <th></th>\n",
       "      <th></th>\n",
       "      <th></th>\n",
       "      <th></th>\n",
       "      <th></th>\n",
       "      <th></th>\n",
       "      <th></th>\n",
       "      <th></th>\n",
       "    </tr>\n",
       "  </thead>\n",
       "  <tbody>\n",
       "    <tr>\n",
       "      <th>-Alan Ashby</th>\n",
       "      <td>315.0</td>\n",
       "      <td>81.0</td>\n",
       "      <td>7.0</td>\n",
       "      <td>24.0</td>\n",
       "      <td>38.0</td>\n",
       "      <td>39.0</td>\n",
       "      <td>14.0</td>\n",
       "      <td>3449.0</td>\n",
       "      <td>835.0</td>\n",
       "      <td>69.0</td>\n",
       "      <td>321.0</td>\n",
       "      <td>414.0</td>\n",
       "      <td>375.0</td>\n",
       "      <td>632.0</td>\n",
       "      <td>43.0</td>\n",
       "      <td>10.0</td>\n",
       "      <td>1.0</td>\n",
       "      <td>1.0</td>\n",
       "      <td>1.0</td>\n",
       "    </tr>\n",
       "    <tr>\n",
       "      <th>-Alvin Davis</th>\n",
       "      <td>479.0</td>\n",
       "      <td>130.0</td>\n",
       "      <td>18.0</td>\n",
       "      <td>66.0</td>\n",
       "      <td>72.0</td>\n",
       "      <td>76.0</td>\n",
       "      <td>3.0</td>\n",
       "      <td>1624.0</td>\n",
       "      <td>457.0</td>\n",
       "      <td>63.0</td>\n",
       "      <td>224.0</td>\n",
       "      <td>266.0</td>\n",
       "      <td>263.0</td>\n",
       "      <td>880.0</td>\n",
       "      <td>82.0</td>\n",
       "      <td>14.0</td>\n",
       "      <td>0.0</td>\n",
       "      <td>1.0</td>\n",
       "      <td>0.0</td>\n",
       "    </tr>\n",
       "    <tr>\n",
       "      <th>-Andre Dawson</th>\n",
       "      <td>496.0</td>\n",
       "      <td>141.0</td>\n",
       "      <td>20.0</td>\n",
       "      <td>65.0</td>\n",
       "      <td>78.0</td>\n",
       "      <td>37.0</td>\n",
       "      <td>11.0</td>\n",
       "      <td>5628.0</td>\n",
       "      <td>1575.0</td>\n",
       "      <td>225.0</td>\n",
       "      <td>828.0</td>\n",
       "      <td>838.0</td>\n",
       "      <td>354.0</td>\n",
       "      <td>200.0</td>\n",
       "      <td>11.0</td>\n",
       "      <td>3.0</td>\n",
       "      <td>1.0</td>\n",
       "      <td>0.0</td>\n",
       "      <td>1.0</td>\n",
       "    </tr>\n",
       "    <tr>\n",
       "      <th>-Andres Galarraga</th>\n",
       "      <td>321.0</td>\n",
       "      <td>87.0</td>\n",
       "      <td>10.0</td>\n",
       "      <td>39.0</td>\n",
       "      <td>42.0</td>\n",
       "      <td>30.0</td>\n",
       "      <td>2.0</td>\n",
       "      <td>396.0</td>\n",
       "      <td>101.0</td>\n",
       "      <td>12.0</td>\n",
       "      <td>48.0</td>\n",
       "      <td>46.0</td>\n",
       "      <td>33.0</td>\n",
       "      <td>805.0</td>\n",
       "      <td>40.0</td>\n",
       "      <td>4.0</td>\n",
       "      <td>1.0</td>\n",
       "      <td>0.0</td>\n",
       "      <td>1.0</td>\n",
       "    </tr>\n",
       "    <tr>\n",
       "      <th>-Alfredo Griffin</th>\n",
       "      <td>594.0</td>\n",
       "      <td>169.0</td>\n",
       "      <td>4.0</td>\n",
       "      <td>74.0</td>\n",
       "      <td>51.0</td>\n",
       "      <td>35.0</td>\n",
       "      <td>11.0</td>\n",
       "      <td>4408.0</td>\n",
       "      <td>1133.0</td>\n",
       "      <td>19.0</td>\n",
       "      <td>501.0</td>\n",
       "      <td>336.0</td>\n",
       "      <td>194.0</td>\n",
       "      <td>282.0</td>\n",
       "      <td>421.0</td>\n",
       "      <td>25.0</td>\n",
       "      <td>0.0</td>\n",
       "      <td>1.0</td>\n",
       "      <td>0.0</td>\n",
       "    </tr>\n",
       "    <tr>\n",
       "      <th>-Al Newman</th>\n",
       "      <td>185.0</td>\n",
       "      <td>37.0</td>\n",
       "      <td>1.0</td>\n",
       "      <td>23.0</td>\n",
       "      <td>8.0</td>\n",
       "      <td>21.0</td>\n",
       "      <td>2.0</td>\n",
       "      <td>214.0</td>\n",
       "      <td>42.0</td>\n",
       "      <td>1.0</td>\n",
       "      <td>30.0</td>\n",
       "      <td>9.0</td>\n",
       "      <td>24.0</td>\n",
       "      <td>76.0</td>\n",
       "      <td>127.0</td>\n",
       "      <td>7.0</td>\n",
       "      <td>1.0</td>\n",
       "      <td>0.0</td>\n",
       "      <td>0.0</td>\n",
       "    </tr>\n",
       "    <tr>\n",
       "      <th>-Argenis Salazar</th>\n",
       "      <td>298.0</td>\n",
       "      <td>73.0</td>\n",
       "      <td>0.0</td>\n",
       "      <td>24.0</td>\n",
       "      <td>24.0</td>\n",
       "      <td>7.0</td>\n",
       "      <td>3.0</td>\n",
       "      <td>509.0</td>\n",
       "      <td>108.0</td>\n",
       "      <td>0.0</td>\n",
       "      <td>41.0</td>\n",
       "      <td>37.0</td>\n",
       "      <td>12.0</td>\n",
       "      <td>121.0</td>\n",
       "      <td>283.0</td>\n",
       "      <td>9.0</td>\n",
       "      <td>0.0</td>\n",
       "      <td>1.0</td>\n",
       "      <td>0.0</td>\n",
       "    </tr>\n",
       "    <tr>\n",
       "      <th>-Andres Thomas</th>\n",
       "      <td>323.0</td>\n",
       "      <td>81.0</td>\n",
       "      <td>6.0</td>\n",
       "      <td>26.0</td>\n",
       "      <td>32.0</td>\n",
       "      <td>8.0</td>\n",
       "      <td>2.0</td>\n",
       "      <td>341.0</td>\n",
       "      <td>86.0</td>\n",
       "      <td>6.0</td>\n",
       "      <td>32.0</td>\n",
       "      <td>34.0</td>\n",
       "      <td>8.0</td>\n",
       "      <td>143.0</td>\n",
       "      <td>290.0</td>\n",
       "      <td>19.0</td>\n",
       "      <td>1.0</td>\n",
       "      <td>1.0</td>\n",
       "      <td>1.0</td>\n",
       "    </tr>\n",
       "    <tr>\n",
       "      <th>-Andre Thornton</th>\n",
       "      <td>401.0</td>\n",
       "      <td>92.0</td>\n",
       "      <td>17.0</td>\n",
       "      <td>49.0</td>\n",
       "      <td>66.0</td>\n",
       "      <td>65.0</td>\n",
       "      <td>13.0</td>\n",
       "      <td>5206.0</td>\n",
       "      <td>1332.0</td>\n",
       "      <td>253.0</td>\n",
       "      <td>784.0</td>\n",
       "      <td>890.0</td>\n",
       "      <td>866.0</td>\n",
       "      <td>0.0</td>\n",
       "      <td>0.0</td>\n",
       "      <td>0.0</td>\n",
       "      <td>0.0</td>\n",
       "      <td>0.0</td>\n",
       "      <td>0.0</td>\n",
       "    </tr>\n",
       "    <tr>\n",
       "      <th>-Alan Trammell</th>\n",
       "      <td>574.0</td>\n",
       "      <td>159.0</td>\n",
       "      <td>21.0</td>\n",
       "      <td>107.0</td>\n",
       "      <td>75.0</td>\n",
       "      <td>59.0</td>\n",
       "      <td>10.0</td>\n",
       "      <td>4631.0</td>\n",
       "      <td>1300.0</td>\n",
       "      <td>90.0</td>\n",
       "      <td>702.0</td>\n",
       "      <td>504.0</td>\n",
       "      <td>488.0</td>\n",
       "      <td>238.0</td>\n",
       "      <td>445.0</td>\n",
       "      <td>22.0</td>\n",
       "      <td>0.0</td>\n",
       "      <td>0.0</td>\n",
       "      <td>0.0</td>\n",
       "    </tr>\n",
       "  </tbody>\n",
       "</table>\n",
       "</div>"
      ],
      "text/plain": [
       "                   AtBat   Hits  HmRun   Runs   RBI  Walks  Years  CAtBat  \\\n",
       "Name                                                                        \n",
       "-Alan Ashby        315.0   81.0    7.0   24.0  38.0   39.0   14.0  3449.0   \n",
       "-Alvin Davis       479.0  130.0   18.0   66.0  72.0   76.0    3.0  1624.0   \n",
       "-Andre Dawson      496.0  141.0   20.0   65.0  78.0   37.0   11.0  5628.0   \n",
       "-Andres Galarraga  321.0   87.0   10.0   39.0  42.0   30.0    2.0   396.0   \n",
       "-Alfredo Griffin   594.0  169.0    4.0   74.0  51.0   35.0   11.0  4408.0   \n",
       "-Al Newman         185.0   37.0    1.0   23.0   8.0   21.0    2.0   214.0   \n",
       "-Argenis Salazar   298.0   73.0    0.0   24.0  24.0    7.0    3.0   509.0   \n",
       "-Andres Thomas     323.0   81.0    6.0   26.0  32.0    8.0    2.0   341.0   \n",
       "-Andre Thornton    401.0   92.0   17.0   49.0  66.0   65.0   13.0  5206.0   \n",
       "-Alan Trammell     574.0  159.0   21.0  107.0  75.0   59.0   10.0  4631.0   \n",
       "\n",
       "                    CHits  CHmRun  CRuns   CRBI  CWalks  PutOuts  Assists  \\\n",
       "Name                                                                        \n",
       "-Alan Ashby         835.0    69.0  321.0  414.0   375.0    632.0     43.0   \n",
       "-Alvin Davis        457.0    63.0  224.0  266.0   263.0    880.0     82.0   \n",
       "-Andre Dawson      1575.0   225.0  828.0  838.0   354.0    200.0     11.0   \n",
       "-Andres Galarraga   101.0    12.0   48.0   46.0    33.0    805.0     40.0   \n",
       "-Alfredo Griffin   1133.0    19.0  501.0  336.0   194.0    282.0    421.0   \n",
       "-Al Newman           42.0     1.0   30.0    9.0    24.0     76.0    127.0   \n",
       "-Argenis Salazar    108.0     0.0   41.0   37.0    12.0    121.0    283.0   \n",
       "-Andres Thomas       86.0     6.0   32.0   34.0     8.0    143.0    290.0   \n",
       "-Andre Thornton    1332.0   253.0  784.0  890.0   866.0      0.0      0.0   \n",
       "-Alan Trammell     1300.0    90.0  702.0  504.0   488.0    238.0    445.0   \n",
       "\n",
       "                   Errors  League_N  Division_W  NewLeague_N  \n",
       "Name                                                          \n",
       "-Alan Ashby          10.0       1.0         1.0          1.0  \n",
       "-Alvin Davis         14.0       0.0         1.0          0.0  \n",
       "-Andre Dawson         3.0       1.0         0.0          1.0  \n",
       "-Andres Galarraga     4.0       1.0         0.0          1.0  \n",
       "-Alfredo Griffin     25.0       0.0         1.0          0.0  \n",
       "-Al Newman            7.0       1.0         0.0          0.0  \n",
       "-Argenis Salazar      9.0       0.0         1.0          0.0  \n",
       "-Andres Thomas       19.0       1.0         1.0          1.0  \n",
       "-Andre Thornton       0.0       0.0         0.0          0.0  \n",
       "-Alan Trammell       22.0       0.0         0.0          0.0  "
      ]
     },
     "metadata": {},
     "output_type": "display_data"
    }
   ],
   "source": [
    "hittersDF = pd.read_csv('Hitters.csv', na_values=[\"\"])\n",
    "# The first column has no name in the csv file:\n",
    "hittersDF.rename(columns={hittersDF.columns[0] : \"Name\"}, inplace=True, copy=False)\n",
    "hittersDF.set_index('Name', inplace=True)\n",
    "hittersDF.dropna(inplace=True)\n",
    "\n",
    "#-- CREATE X and y:\n",
    "\n",
    "# Convert categorical variables into dummies:\n",
    "dummies = pd.get_dummies(hittersDF[['League', 'Division', 'NewLeague']])\n",
    "X = hittersDF.drop(['Salary', 'League', 'Division', 'NewLeague'], axis=1)\n",
    "cat_features = ['League_N', 'Division_W', 'NewLeague_N']\n",
    "num_features = list(X.columns)\n",
    "\n",
    "X = pd.concat([X, dummies[cat_features]], axis=1).astype('float64')\n",
    "y = hittersDF.Salary"
   ]
  },
  {
   "cell_type": "markdown",
   "metadata": {},
   "source": [
    "## Creating Data Pipelines"
   ]
  },
  {
   "cell_type": "code",
   "execution_count": 11,
   "metadata": {},
   "outputs": [
    {
     "name": "stdout",
     "output_type": "stream",
     "text": [
      "[[-1.22544785 -0.95709474 -0.92570099 -1.4022036  -1.13030146 -1.58538045\n",
      "   2.01095013  0.62071676  0.65160576  0.12446442  0.41391291  0.42474454\n",
      "  -0.01814744 -0.36319346 -0.42345049 -0.59896236  0.          1.\n",
      "   0.        ]\n",
      " [ 0.8036835   0.44319078 -1.17625229 -0.44088545 -0.28021565 -0.19298262\n",
      "   0.75450593  1.26958867  1.31158886 -0.31559698  1.07321939  0.50410693\n",
      "   0.03020472 -0.26634017  1.78498762  1.91691963  1.          1.\n",
      "   1.        ]\n",
      " [ 1.70551966  2.27433337  0.32705552  2.05854173  0.2993883   0.54672873\n",
      "  -0.50193827 -0.11288459  0.08002686 -0.50741861 -0.00313677 -0.31502626\n",
      "  -0.22364413  0.16782974 -0.60689902 -0.59896236  1.          1.\n",
      "   1.        ]\n",
      " [-0.56956701 -0.72012334 -1.4268036  -0.78695998 -0.78253908 -0.58459451\n",
      "  -0.50193827 -0.98179368 -0.96862989 -0.81207651 -0.95683125 -0.8762317\n",
      "  -0.89654505 -0.56691934  1.15702918  0.65897863  1.          0.\n",
      "   1.        ]]\n"
     ]
    }
   ],
   "source": [
    "# From here: https://kiwidamien.github.io/introducing-the-column-transformer.html\n",
    "# and from \"Hands-On Machine Learning with Scikit-Learn & TensorFlow\" by Aurélien Géron.\n",
    "\n",
    "# Feature scaling is super important for Ridge and Lasso.\n",
    "\n",
    "# Pipeline for numerical columns:\n",
    "num_pipeline = Pipeline([\n",
    "    # Replace missing numerical values with their median values.\n",
    "    # Actually, our dataset does not have missing values (we dropped them all),\n",
    "    # but in case we decide not to drop the missing values, we can do the imputation.\n",
    "    ('impute', SimpleImputer(strategy='median')),\n",
    "    ('std_scaler', StandardScaler()),\n",
    "])\n",
    "\n",
    "# Pipeline for categorical columns:\n",
    "cat_pipeline = Pipeline([\n",
    "    # Do not scale data. Replace missing values with the most frequent values:\n",
    "    ('impute', SimpleImputer(strategy='most_frequent'))\n",
    "])\n",
    "\n",
    "full_preprocess_pipeline = ColumnTransformer([\n",
    "    ('numerical', num_pipeline, num_features),\n",
    "    ('categorical', cat_pipeline, cat_features)\n",
    "])\n",
    "\n",
    "train_preprocess_pipeline = copy.copy(full_preprocess_pipeline)\n",
    "\n",
    "X_processed = full_preprocess_pipeline.fit_transform(X)\n",
    "\n",
    "#-- SPLIT INTO TWO TRAIN AND TEST DATASETS:\n",
    "\n",
    "X_train, X_test, y_train, y_test = train_test_split(X, y, test_size=0.5, random_state=1)\n",
    "X_train_processed = train_preprocess_pipeline.fit_transform(X_train)\n",
    "# Note that we scale test data using the train data's mean and variance. This is important.\n",
    "X_test_processed = train_preprocess_pipeline.transform(X_test)\n",
    "print(X_train_processed[:4])"
   ]
  },
  {
   "cell_type": "markdown",
   "metadata": {},
   "source": [
    "## Print Function"
   ]
  },
  {
   "cell_type": "code",
   "execution_count": 23,
   "metadata": {},
   "outputs": [],
   "source": [
    "# This function prints results from ridge or lasso regression.\n",
    "# It prints coefficients for scaled and unscaled data:\n",
    "def printCoefs(regr_res, coef_names, num_features_idx, mean, var):\n",
    "    scaled_coefs = np.hstack((regr_res.intercept_, regr_res.coef_))\n",
    "    \n",
    "    # Only numerical features are scaled. So, we need to extract them, unscale\n",
    "    # the coefficients, then merge coefficients for numerical and categorical\n",
    "    # features.\n",
    "\n",
    "    cat_features_idx = [x for x in range(len(regr_res.coef_))\\\n",
    "                        if x not in num_features_idx]\n",
    "\n",
    "    unscaled_num_coefs = regr_res.coef_[num_features_idx] / np.sqrt(var)\n",
    "    unscaled_intercept = regr_res.intercept_ - np.sum(unscaled_num_coefs * mean)\n",
    "\n",
    "    unscaled_coefs = np.array([None] * (len(regr_res.coef_) + 1))\n",
    "    # Intercept goes first, then the rest of coefficients:\n",
    "    unscaled_coefs[0] = unscaled_intercept\n",
    "    unscaled_coefs[[i+1 for i in num_features_idx]] = unscaled_num_coefs\n",
    "    unscaled_coefs[[i+1 for i in cat_features_idx]] = ridge.coef_[cat_features_idx]\n",
    "\n",
    "    results = pd.DataFrame(data={'Scaled' : scaled_coefs,\n",
    "                                  'Unscaled' : unscaled_coefs},\n",
    "                            index=['Intercept']+coef_names)\n",
    "    print(results)"
   ]
  },
  {
   "cell_type": "markdown",
   "metadata": {},
   "source": [
    "## Ridge Regression"
   ]
  },
  {
   "cell_type": "code",
   "execution_count": 13,
   "metadata": {},
   "outputs": [
    {
     "data": {
      "image/png": "[encoded data removed]",
      "text/plain": [
       "<Figure size 504x432 with 1 Axes>"
      ]
     },
     "metadata": {
      "needs_background": "light"
     },
     "output_type": "display_data"
    }
   ],
   "source": [
    "# NB: glmnet uses (1/N)*||y - Xw||^2_2 + lambda/2 * ||w||^2_2, while\n",
    "# Ridge uses ||y - Xw||^2_2 + alpha * ||w||^2_2. So, there is a difference.\n",
    "alphas = 10**np.linspace(5, -2, 300)\n",
    "\n",
    "# NB: Do not use the normalize option of Ridge, use scale or StandardScaler from sklearn.preprocessing\n",
    "# See here: https://stackoverflow.com/questions/24098212/what-does-the-option-normalize-true-in-lasso-sklearn-do\n",
    "ridge = Ridge(fit_intercept=True, normalize=False, tol=1e-12)\n",
    "\n",
    "coefs = []\n",
    "for a in alphas:\n",
    "    ridge.set_params(alpha=a)\n",
    "    ridge.fit(X_processed, y)\n",
    "    coefs.append(ridge.coef_)\n",
    "\n",
    "ax = plt.gca()\n",
    "ax.plot(alphas, coefs)\n",
    "ax.set_xscale('log')\n",
    "ax.set_xlim(ax.get_xlim()[::-1])  # reverse axis\n",
    "plt.axis('tight')\n",
    "plt.xlabel('alpha')\n",
    "plt.ylabel('weights')\n",
    "plt.title('Ridge coefficients as a function of the regularization');"
   ]
  },
  {
   "cell_type": "code",
   "execution_count": 14,
   "metadata": {},
   "outputs": [
    {
     "name": "stdout",
     "output_type": "stream",
     "text": [
      "Ridge regression with alpha = 4\n",
      "MSE: 102084.02878693413\n"
     ]
    }
   ],
   "source": [
    "# Perform ridge on train data for alpha = 4 and show prediction error on test data:\n",
    "ridge2 = Ridge(alpha=4, normalize=False, tol=1e-12)\n",
    "ridge2.fit(X_train_processed, y_train)\n",
    "yhat = ridge2.predict(X_test_processed)\n",
    "print(\"Ridge regression with alpha =\", 4)\n",
    "print(\"MSE:\", mean_squared_error(y_test, yhat))"
   ]
  },
  {
   "cell_type": "markdown",
   "metadata": {},
   "source": [
    "### Choosing an Optimal α"
   ]
  },
  {
   "cell_type": "code",
   "execution_count": 15,
   "metadata": {
    "scrolled": true
   },
   "outputs": [
    {
     "name": "stdout",
     "output_type": "stream",
     "text": [
      "Fitting 10 folds for each of 300 candidates, totalling 3000 fits\n"
     ]
    },
    {
     "name": "stderr",
     "output_type": "stream",
     "text": [
      "[Parallel(n_jobs=6)]: Using backend LokyBackend with 6 concurrent workers.\n",
      "[Parallel(n_jobs=6)]: Done  40 tasks      | elapsed:    1.8s\n",
      "[Parallel(n_jobs=6)]: Done 2060 tasks      | elapsed:    8.0s\n"
     ]
    },
    {
     "name": "stdout",
     "output_type": "stream",
     "text": [
      "Best alpha: 69.09790545715646\n",
      "MSE on the test dataset is:  101735.58726985169\n"
     ]
    },
    {
     "name": "stderr",
     "output_type": "stream",
     "text": [
      "[Parallel(n_jobs=6)]: Done 3000 out of 3000 | elapsed:   10.9s finished\n",
      "/Users/daehyung/opt/anaconda3/lib/python3.7/site-packages/sklearn/model_selection/_search.py:823: FutureWarning: The parameter 'iid' is deprecated in 0.22 and will be removed in 0.24.\n",
      "  \"removed in 0.24.\", FutureWarning\n"
     ]
    }
   ],
   "source": [
    "# NB: Don't use 'RidgeCV'!\n",
    "# See here: https://stackoverflow.com/questions/39466671/use-of-scaler-with-lassocv-ridgecv\n",
    "\n",
    "ridge_pipeline = Pipeline([\n",
    "    ('scaler', train_preprocess_pipeline),\n",
    "    ('regressor', Ridge(fit_intercept=True, normalize=False, tol=1e-12))\n",
    "])\n",
    "\n",
    "# We need to supply parameter alpha to Ridge. Note the convention adopted to\n",
    "# name the parameters: name of the pipeline step, followed by a double underscore (__),\n",
    "# then finally the name of the parameter within the step\n",
    "pipeline_params = {'regressor__alpha': alphas}\n",
    "\n",
    "# Using our pipline with GridSearchCV allows us to scale the train part of X_train in each fold\n",
    "# and then apply that scaling to the test part of X_train in each fold. This is the correct way to\n",
    "# K-fold cross-validation. This way there is no information leakage from the train part of a fold to\n",
    "# the test part of a fold.\n",
    "kf = KFold(n_splits=10, shuffle=True, random_state=1)\n",
    "gridsearch = GridSearchCV(ridge_pipeline, param_grid=pipeline_params, cv=kf,\n",
    "                          scoring='neg_mean_squared_error',\n",
    "                          return_train_score=False, # We don't need them\n",
    "                          n_jobs=6, # Use 6 CPU cores\n",
    "                          verbose=1, iid=False).fit(X_train, y_train)\n",
    "\n",
    "best_ridge_alpha = gridsearch.best_params_['regressor__alpha']\n",
    "print(\"Best alpha:\", best_ridge_alpha)\n",
    "print('MSE on the test dataset is: ', -gridsearch.score(X_test, y_test))"
   ]
  },
  {
   "cell_type": "markdown",
   "metadata": {},
   "source": [
    "### Printing Results"
   ]
  },
  {
   "cell_type": "code",
   "execution_count": 16,
   "metadata": {
    "scrolled": true
   },
   "outputs": [
    {
     "data": {
      "text/markdown": [
       "**Regression coefficients of the optimal ridge regression on the full dataset:**"
      ],
      "text/plain": [
       "<IPython.core.display.Markdown object>"
      ]
     },
     "metadata": {},
     "output_type": "display_data"
    },
    {
     "name": "stdout",
     "output_type": "stream",
     "text": [
      "                 Scaled  Unscaled\n",
      "Intercept    577.485786    163.13\n",
      "AtBat       -290.926712  -1.97873\n",
      "Hits         337.235023   7.48755\n",
      "HmRun         37.494045   4.28972\n",
      "Runs         -60.017331  -2.35443\n",
      "RBI          -26.662596   -1.0321\n",
      "Walks        134.927434   6.22453\n",
      "Years        -17.051308  -3.56387\n",
      "CAtBat      -388.771534 -0.170347\n",
      "CHits         88.555476  0.136878\n",
      "CHmRun       -12.903281 -0.157278\n",
      "CRuns        477.616374   1.44483\n",
      "CRBI         258.394540  0.800597\n",
      "CWalks      -213.378882 -0.809623\n",
      "PutOuts       78.761990  0.281895\n",
      "Assists       53.657052  0.370548\n",
      "Errors       -22.191244  -3.36537\n",
      "League_N      62.571806   62.5718\n",
      "Division_W  -116.894468  -116.894\n",
      "NewLeague_N  -24.797541  -24.7975\n"
     ]
    }
   ],
   "source": [
    "#COEFFICIENTS ON THE FULL DATA SET:\n",
    "ridge.set_params(alpha=best_ridge_alpha)\n",
    "fitted_scaler = full_preprocess_pipeline.transformers_[0][1].steps[1][1]\n",
    "displaybd(\"Regression coefficients of the optimal ridge regression on the full dataset:\")\n",
    "printRidgeCoefs(ridge, num_features + cat_features,\n",
    "                list(range(len(num_features))),\n",
    "                fitted_scaler.mean_, fitted_scaler.var_)"
   ]
  },
  {
   "cell_type": "markdown",
   "metadata": {},
   "source": [
    "## Lasso Regression"
   ]
  },
  {
   "cell_type": "code",
   "execution_count": 17,
   "metadata": {},
   "outputs": [
    {
     "data": {
      "image/png": "[encoded data removed]",
      "text/plain": [
       "<Figure size 504x432 with 1 Axes>"
      ]
     },
     "metadata": {
      "needs_background": "light"
     },
     "output_type": "display_data"
    }
   ],
   "source": [
    "lasso = Lasso(fit_intercept=True, normalize=False, tol=1e-12, max_iter=100000)\n",
    "\n",
    "coefs = []\n",
    "for a in alphas:\n",
    "    lasso.set_params(alpha=a)\n",
    "    lasso.fit(X_processed, y)\n",
    "    coefs.append(lasso.coef_)\n",
    "\n",
    "ax = plt.gca()\n",
    "ax.plot(alphas, coefs)\n",
    "ax.set_xscale('log')\n",
    "ax.set_xlim(ax.get_xlim()[::-1])  # reverse axis\n",
    "plt.axis('tight')\n",
    "plt.xlabel('alpha')\n",
    "plt.ylabel('weights')\n",
    "plt.title('Lasso coefficients as a function of the regularization');"
   ]
  },
  {
   "cell_type": "markdown",
   "metadata": {},
   "source": [
    "### Choosing an Optimal α"
   ]
  },
  {
   "cell_type": "code",
   "execution_count": 18,
   "metadata": {},
   "outputs": [
    {
     "name": "stdout",
     "output_type": "stream",
     "text": [
      "Fitting 10 folds for each of 300 candidates, totalling 3000 fits\n"
     ]
    },
    {
     "name": "stderr",
     "output_type": "stream",
     "text": [
      "[Parallel(n_jobs=6)]: Using backend LokyBackend with 6 concurrent workers.\n",
      "[Parallel(n_jobs=6)]: Done  40 tasks      | elapsed:    2.0s\n",
      "[Parallel(n_jobs=6)]: Done 2060 tasks      | elapsed:   11.1s\n"
     ]
    },
    {
     "name": "stdout",
     "output_type": "stream",
     "text": [
      "Best alpha: 0.7181039092537357\n",
      "MSE on the test dataset is:  107596.2015393248\n"
     ]
    },
    {
     "name": "stderr",
     "output_type": "stream",
     "text": [
      "[Parallel(n_jobs=6)]: Done 3000 out of 3000 | elapsed:   19.8s finished\n",
      "/Users/daehyung/opt/anaconda3/lib/python3.7/site-packages/sklearn/model_selection/_search.py:823: FutureWarning: The parameter 'iid' is deprecated in 0.22 and will be removed in 0.24.\n",
      "  \"removed in 0.24.\", FutureWarning\n"
     ]
    }
   ],
   "source": [
    "# NB: Again, don't use 'LassoCV'!\n",
    "# See here: https://stackoverflow.com/questions/39466671/use-of-scaler-with-lassocv-ridgecv\n",
    "\n",
    "lasso_pipeline = Pipeline([\n",
    "    ('scaler', train_preprocess_pipeline),\n",
    "    ('regressor', Lasso(fit_intercept=True, normalize=False, tol=1e-12, max_iter=10000))\n",
    "])\n",
    "\n",
    "# We need a much lower alpha for Lasso (it means a different thing in Lasso versus Ridge).\n",
    "# I just divide it by 10:\n",
    "pipeline_params = {'regressor__alpha': alphas / 10}\n",
    "\n",
    "# Using our pipline with GridSearchCV allows us to scale the train part of X_train in each fold\n",
    "# and then apply that scaling to the test part of X_train in each fold. This is the correct way to\n",
    "# K-fold cross-validation. This way there is no information leakage from the train part of a fold to\n",
    "# the test part of a fold.\n",
    "kf = KFold(n_splits=10, shuffle=True, random_state=1)\n",
    "gridsearch = GridSearchCV(lasso_pipeline, param_grid=pipeline_params, cv=kf,\n",
    "                          scoring='neg_mean_squared_error',\n",
    "                          return_train_score=False, # We don't need them\n",
    "                          n_jobs=6, # Use 6 CPU cores\n",
    "                          verbose=1, iid=False).fit(X_train, y_train)\n",
    "\n",
    "best_lasso_alpha = gridsearch.best_params_['regressor__alpha']\n",
    "print(\"Best alpha:\", best_lasso_alpha)\n",
    "print('MSE on the test dataset is: ', -gridsearch.score(X_test, y_test))"
   ]
  },
  {
   "cell_type": "markdown",
   "metadata": {},
   "source": [
    "### Printing Results"
   ]
  },
  {
   "cell_type": "code",
   "execution_count": 28,
   "metadata": {},
   "outputs": [
    {
     "data": {
      "text/markdown": [
       "**Regression coefficients of the optimal lasso regression on the full dataset:**"
      ],
      "text/plain": [
       "<IPython.core.display.Markdown object>"
      ]
     },
     "metadata": {},
     "output_type": "display_data"
    },
    {
     "name": "stdout",
     "output_type": "stream",
     "text": [
      "                 Scaled  Unscaled\n",
      "Intercept    577.417128   162.994\n",
      "AtBat       -291.156068  -1.98029\n",
      "Hits         337.534768    7.4942\n",
      "HmRun         37.410636   4.28018\n",
      "Runs         -60.160402  -2.36004\n",
      "RBI          -26.527714  -1.02687\n",
      "Walks        134.920241    6.2242\n",
      "Years        -16.900832  -3.53242\n",
      "CAtBat      -388.183560 -0.170089\n",
      "CHits         86.005263  0.132936\n",
      "CHmRun       -13.326362 -0.162435\n",
      "CRuns        479.406526   1.45025\n",
      "CRBI         259.079389  0.802719\n",
      "CWalks      -213.675997  -0.81075\n",
      "PutOuts       78.775224  0.281942\n",
      "Assists       53.613395  0.370247\n",
      "Errors       -22.122089  -3.35488\n",
      "League_N      62.292836   62.5718\n",
      "Division_W  -116.810487  -116.894\n",
      "NewLeague_N  -24.458230  -24.7975\n"
     ]
    }
   ],
   "source": [
    "lasso.set_params(alpha=best_lasso_alpha)\n",
    "fitted_scaler = full_preprocess_pipeline.transformers_[0][1].steps[1][1]\n",
    "displaybd(\"Regression coefficients of the optimal lasso regression on the full dataset:\")\n",
    "printCoefs(lasso, num_features + cat_features,\n",
    "                list(range(len(num_features))),\n",
    "                fitted_scaler.mean_, fitted_scaler.var_)"
   ]
  }
 ],
 "metadata": {
  "kernelspec": {
   "display_name": "Python 3",
   "language": "python",
   "name": "python3"
  },
  "language_info": {
   "codemirror_mode": {
    "name": "ipython",
    "version": 3
   },
   "file_extension": ".py",
   "mimetype": "text/x-python",
   "name": "python",
   "nbconvert_exporter": "python",
   "pygments_lexer": "ipython3",
   "version": "3.7.6"
  }
 },
 "nbformat": 4,
 "nbformat_minor": 4
}
